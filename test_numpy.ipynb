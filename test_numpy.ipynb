{
  "nbformat": 4,
  "nbformat_minor": 0,
  "metadata": {
    "colab": {
      "name": "test_numpy.ipynb",
      "provenance": [],
      "authorship_tag": "ABX9TyNhe68YErtjbJKu6YuECNSP",
      "include_colab_link": true
    },
    "kernelspec": {
      "name": "python3",
      "display_name": "Python 3"
    }
  },
  "cells": [
    {
      "cell_type": "markdown",
      "metadata": {
        "id": "view-in-github",
        "colab_type": "text"
      },
      "source": [
        "<a href=\"https://colab.research.google.com/github/Alexy1980/deep_learning/blob/main/test_numpy.ipynb\" target=\"_parent\"><img src=\"https://colab.research.google.com/assets/colab-badge.svg\" alt=\"Open In Colab\"/></a>"
      ]
    },
    {
      "cell_type": "code",
      "metadata": {
        "colab": {
          "base_uri": "https://localhost:8080/"
        },
        "id": "zwN-2iGgjPZL",
        "outputId": "beac3d77-6d35-42e8-d666-0405518e50e7"
      },
      "source": [
        "pip install terra_ai"
      ],
      "execution_count": null,
      "outputs": [
        {
          "output_type": "stream",
          "text": [
            "Collecting terra_ai\n",
            "\u001b[?25l  Downloading https://files.pythonhosted.org/packages/e5/b4/cd85b0c9e1ec8a3ef924fde1c651906cd94cd1007bece3a9c505f0089b8c/terra_ai-1.6-py3-none-any.whl (78kB)\n",
            "\r\u001b[K     |████▏                           | 10kB 12.9MB/s eta 0:00:01\r\u001b[K     |████████▍                       | 20kB 17.6MB/s eta 0:00:01\r\u001b[K     |████████████▌                   | 30kB 11.2MB/s eta 0:00:01\r\u001b[K     |████████████████▊               | 40kB 8.8MB/s eta 0:00:01\r\u001b[K     |████████████████████▉           | 51kB 4.5MB/s eta 0:00:01\r\u001b[K     |█████████████████████████       | 61kB 5.1MB/s eta 0:00:01\r\u001b[K     |█████████████████████████████▎  | 71kB 5.5MB/s eta 0:00:01\r\u001b[K     |████████████████████████████████| 81kB 3.7MB/s \n",
            "\u001b[?25hInstalling collected packages: terra-ai\n",
            "Successfully installed terra-ai-1.6\n"
          ],
          "name": "stdout"
        }
      ]
    },
    {
      "cell_type": "code",
      "metadata": {
        "id": "plt3zjMskCzv"
      },
      "source": [
        "import numpy as np"
      ],
      "execution_count": 1,
      "outputs": []
    },
    {
      "cell_type": "code",
      "metadata": {
        "colab": {
          "base_uri": "https://localhost:8080/"
        },
        "id": "o9AwMgFWfE-Q",
        "outputId": "8cbbd1a6-300e-419f-ae12-94fa44a7dc56"
      },
      "source": [
        "arr = np.array([[a*a+b*b for a in range(15)] for b in range(15)])\r\n",
        "print(arr)"
      ],
      "execution_count": 6,
      "outputs": [
        {
          "output_type": "stream",
          "text": [
            "[[  0   1   4   9  16  25  36  49  64  81 100 121 144 169 196]\n",
            " [  1   2   5  10  17  26  37  50  65  82 101 122 145 170 197]\n",
            " [  4   5   8  13  20  29  40  53  68  85 104 125 148 173 200]\n",
            " [  9  10  13  18  25  34  45  58  73  90 109 130 153 178 205]\n",
            " [ 16  17  20  25  32  41  52  65  80  97 116 137 160 185 212]\n",
            " [ 25  26  29  34  41  50  61  74  89 106 125 146 169 194 221]\n",
            " [ 36  37  40  45  52  61  72  85 100 117 136 157 180 205 232]\n",
            " [ 49  50  53  58  65  74  85  98 113 130 149 170 193 218 245]\n",
            " [ 64  65  68  73  80  89 100 113 128 145 164 185 208 233 260]\n",
            " [ 81  82  85  90  97 106 117 130 145 162 181 202 225 250 277]\n",
            " [100 101 104 109 116 125 136 149 164 181 200 221 244 269 296]\n",
            " [121 122 125 130 137 146 157 170 185 202 221 242 265 290 317]\n",
            " [144 145 148 153 160 169 180 193 208 225 244 265 288 313 340]\n",
            " [169 170 173 178 185 194 205 218 233 250 269 290 313 338 365]\n",
            " [196 197 200 205 212 221 232 245 260 277 296 317 340 365 392]]\n"
          ],
          "name": "stdout"
        }
      ]
    }
  ]
}